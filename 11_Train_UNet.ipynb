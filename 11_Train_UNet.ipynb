{
  "nbformat": 4,
  "nbformat_minor": 0,
  "metadata": {
    "colab": {
      "name": "11_Train_UNet.ipynb",
      "provenance": [],
      "collapsed_sections": [],
      "machine_shape": "hm",
      "authorship_tag": "ABX9TyNZ8Xca1nJA5IwbtYSvKbZW",
      "include_colab_link": true
    },
    "kernelspec": {
      "name": "python3",
      "display_name": "Python 3"
    },
    "language_info": {
      "name": "python"
    },
    "accelerator": "GPU"
  },
  "cells": [
    {
      "cell_type": "markdown",
      "metadata": {
        "id": "view-in-github",
        "colab_type": "text"
      },
      "source": [
        "<a href=\"https://colab.research.google.com/github/JINYUHOON/VIS_temp/blob/main/11_Train_UNet.ipynb\" target=\"_parent\"><img src=\"https://colab.research.google.com/assets/colab-badge.svg\" alt=\"Open In Colab\"/></a>"
      ]
    },
    {
      "cell_type": "code",
      "source": [
        "from google.colab import drive\n",
        "drive.mount('/content/drive')"
      ],
      "metadata": {
        "colab": {
          "base_uri": "https://localhost:8080/"
        },
        "id": "cYSaWC6waFKK",
        "outputId": "696070fa-9765-454d-9286-98c572c68468"
      },
      "execution_count": 1,
      "outputs": [
        {
          "output_type": "stream",
          "name": "stdout",
          "text": [
            "Mounted at /content/drive\n"
          ]
        }
      ]
    },
    {
      "cell_type": "code",
      "source": [
        "import cv2\n",
        "import numpy as np\n",
        "import pandas as pd\n",
        "import matplotlib.pyplot as plt\n",
        "import tensorflow as tf\n",
        "import random\n",
        "import math\n",
        "\n",
        "from tensorflow.keras.applications import EfficientNetB0\n",
        "from tensorflow.keras import layers\n",
        "from tensorflow.keras import activations\n",
        "from tensorflow import keras\n",
        "from tensorflow.keras import losses"
      ],
      "metadata": {
        "id": "rdKcMDfGaGRb"
      },
      "execution_count": 2,
      "outputs": []
    },
    {
      "cell_type": "code",
      "source": [
        "from albumentations.augmentations.transforms import ShiftScaleRotate\n",
        "import albumentations as A\n",
        "\n",
        "class Augmentation:\n",
        "    def __init__(self, size, mode='train'):\n",
        "        if mode =='train':\n",
        "            self.transform = A.Compose([\n",
        "                                   A.HorizontalFlip(p=0.5),\n",
        "                                   A.ShiftScaleRotate(\n",
        "                                       p = 0.5,\n",
        "                                       shift_limit = 0.05,\n",
        "                                       scale_limit = 0.05,\n",
        "                                       rotate_limit = 15,\n",
        "                                   ),\n",
        "                                #    A.CoarseDropout(\n",
        "                                #        p=0.5,\n",
        "                                #        max_holes = 8,\n",
        "                                #        max_height = int( 0.1 * size),\n",
        "                                #        max_width = int( 0.1 * size)    \n",
        "                                #    ),\n",
        "                                   A.RandomBrightnessContrast(p=0.2),\n",
        "            ])\n",
        "    \n",
        "\n",
        "    def __call__(self, **kwargs):\n",
        "        if self.transform:\n",
        "            augmented = self.transform(**kwargs)\n",
        "            img = augmented['image']\n",
        "            mask = augmented['mask']\n",
        "            return img, mask"
      ],
      "metadata": {
        "id": "26hxdnJwaGbB"
      },
      "execution_count": 3,
      "outputs": []
    },
    {
      "cell_type": "code",
      "source": [
        "def iou(y_true, y_pred):\n",
        "    \n",
        "    smooth = 1.\n",
        "    # Flatten\n",
        "    y_true = tf.reshape(y_true, [-1])\n",
        "    y_pred = tf.reshape(y_pred, [-1])\n",
        "\n",
        "    intersection = tf.reduce_sum(y_true * y_pred)\n",
        "    union = tf.reduce_sum(y_true) + tf.reduce_sum(y_pred) - intersection\n",
        "    score = intersection / (union + smooth)\n",
        "\n",
        "    return score\n",
        "\n",
        "\n",
        "\n",
        "def dice_coef(y_true, y_pred):\n",
        "\n",
        "    smooth = 1.\n",
        "    # Flatten\n",
        "    y_true = tf.reshape(y_true, [-1])\n",
        "    y_pred = tf.reshape(y_pred, [-1])\n",
        "\n",
        "    intersection = tf.reduce_sum(y_true * y_pred)\n",
        "    score = (2. * intersection) / (tf.reduce_sum(y_true) + tf.reduce_sum(y_pred) + smooth)\n",
        "    return score\n",
        "\n",
        "\n",
        "\n",
        "def dice_loss(y_true, y_pred):\n",
        "\n",
        "    loss = 1 - dice_coef(y_true, y_pred)\n",
        "\n",
        "    return loss\n",
        "\n",
        "def bce_dice_loss(y_true, y_pred): # binary_crossentropy\n",
        "\n",
        "    loss = (1. * losses.binary_crossentropy(y_true, y_pred)) + (1. * dice_loss(y_true, y_pred))\n",
        "\n",
        "    return loss"
      ],
      "metadata": {
        "id": "fkqMLQoHv-3e"
      },
      "execution_count": 4,
      "outputs": []
    },
    {
      "cell_type": "code",
      "source": [
        "base_path = '/content/drive/MyDrive/HOON/exam/OX/data/'\n",
        "import math\n",
        "\n",
        "class DataGenerator(keras.utils.Sequence):\n",
        "    def __init__(self, batch_size, csv_path, fold, image_size, mode='train', shuffle=True):\n",
        "        self.batch_size = batch_size\n",
        "        self.fold = fold\n",
        "        self.mode = mode\n",
        "        self.image_size = image_size\n",
        "        self.shuffle = shuffle\n",
        "\n",
        "        self.df = pd.read_csv(csv_path)\n",
        "\n",
        "        if self.mode == 'train':\n",
        "            self.df = self.df[self.df['fold'] != self.fold]\n",
        "        elif self.mode =='val':\n",
        "            self.df = self.df[self.df['fold'] == self.fold]\n",
        "\n",
        "        # Remove invalid\n",
        "        invalid_filenames = [\n",
        "                             'Egyptian_Mau_14',\n",
        "                             'Egyptian_Mau_139',\n",
        "                             'Egyptian_Mau_145',\n",
        "                             'Egyptian_Mau_156',\n",
        "                             'Egyptian_Mau_167',\n",
        "                             'Egyptian_Mau_177',\n",
        "                             'Egyptian_Mau_186',\n",
        "                             'Egyptian_Mau_1191',\n",
        "                             'Abyssinian_5',\n",
        "                             'Abyssinian_34',\n",
        "                             'chihuahua_121',\n",
        "                             'beagle_116'\n",
        "                             \n",
        "        ]\n",
        "\n",
        "        self.df = self.df[-self.df['file_name'].isin(invalid_filenames)]\n",
        "        self.transform = Augmentation(image_size , mode)\n",
        "\n",
        "        self.on_epoch_end()\n",
        "\n",
        "    def __len__(self):\n",
        "        return math.ceil(len(self.df) / self.batch_size)\n",
        "\n",
        "    def __getitem__(self, idx):\n",
        "        strt = idx * self.batch_size\n",
        "        fin = (idx+1) * self.batch_size\n",
        "        data = self.df.iloc[strt:fin]\n",
        "\n",
        "        batch_x, batch_y = self.get_data(data)\n",
        "\n",
        "        return np.array(batch_x), np.array(batch_y)\n",
        "\n",
        "    def get_data(self, data):\n",
        "        batch_x = []\n",
        "        batch_y = []\n",
        "\n",
        "        for _ , r in data.iterrows():\n",
        "            file_name = r['file_name']\n",
        "            \n",
        "            image = cv2.imread(base_path + f'images/{file_name}.jpg')\n",
        "            image = cv2.cvtColor(image, cv2.COLOR_BGR2RGB)\n",
        "            image = cv2.resize(image , (self.image_size , self.image_size))\n",
        "\n",
        "            mask = cv2.imread(base_path + f'annotations/trimaps/{file_name}.png', cv2.IMREAD_GRAYSCALE)\n",
        "            mask = cv2.resize(mask, (self.image_size , self.image_size))\n",
        "            mask[mask != 1] = 0\n",
        "\n",
        "\n",
        "            if self.mode == 'train':\n",
        "                # image = image.astype('uint8')\n",
        "                image , mask= self.transform(image=image,\n",
        "                                       mask=mask)\n",
        "                \n",
        "\n",
        "            image = image.astype('float32')\n",
        "            image = image / 255.\n",
        "            mask = mask.astype('float32')\n",
        "            \n",
        "\n",
        "            batch_x.append(image)\n",
        "            batch_y.append(mask)\n",
        "\n",
        "        return batch_x, batch_y\n",
        "\n",
        "    def on_epoch_end(self):\n",
        "\n",
        "        if self.shuffle:\n",
        "            self.df = self.df.sample(frac=1).reset_index(drop=True)\n",
        "\n",
        "csv_path = base_path + 'kfolds.csv'\n",
        "\n",
        "train_generator = DataGenerator(batch_size = 64, \n",
        "                                csv_path=csv_path, fold = 1, \n",
        "                                image_size = 128,\n",
        "                                mode='train', \n",
        "                                shuffle=True)\n",
        "\n",
        "valid_generator = DataGenerator(batch_size = 64, \n",
        "                                csv_path=csv_path, fold = 1, \n",
        "                                image_size = 128,\n",
        "                                mode='val', \n",
        "                                shuffle=True)"
      ],
      "metadata": {
        "id": "-18x6BrLchUs"
      },
      "execution_count": 5,
      "outputs": []
    },
    {
      "cell_type": "code",
      "source": [
        "!pip install keras_unet"
      ],
      "metadata": {
        "colab": {
          "base_uri": "https://localhost:8080/"
        },
        "id": "nL1GavdaT6Cv",
        "outputId": "30e61257-027f-400a-81d6-a5d90c0d0554"
      },
      "execution_count": 6,
      "outputs": [
        {
          "output_type": "stream",
          "name": "stdout",
          "text": [
            "Collecting keras_unet\n",
            "  Downloading keras_unet-0.1.2-py3-none-any.whl (16 kB)\n",
            "Installing collected packages: keras-unet\n",
            "Successfully installed keras-unet-0.1.2\n"
          ]
        }
      ]
    },
    {
      "cell_type": "code",
      "source": [
        "from keras_unet.models import custom_unet\n",
        "\n",
        "model = custom_unet(\n",
        "    input_shape = (128,128, 3),\n",
        "    use_batch_norm=True,\n",
        "    upsample_mode='deconv',\n",
        "    num_classes=1,\n",
        "    dropout_type='spatial',\n",
        "    use_attention=True,\n",
        "    filters=64,\n",
        "    dropout=0.2,\n",
        "    num_layers=4,\n",
        "    output_activation='sigmoid')\n",
        "\n",
        "model.compile(optimizer = 'adam', loss = bce_dice_loss, metrics=[iou])\n",
        "# model.summary()"
      ],
      "metadata": {
        "id": "Xm7m5x3vwIel",
        "colab": {
          "base_uri": "https://localhost:8080/"
        },
        "outputId": "9353adf7-6f62-430b-8835-c8cb485dcb19"
      },
      "execution_count": 7,
      "outputs": [
        {
          "output_type": "stream",
          "name": "stdout",
          "text": [
            "-----------------------------------------\n",
            "keras-unet init: TF version is >= 2.0.0 - using `tf.keras` instead of `Keras`\n",
            "-----------------------------------------\n"
          ]
        }
      ]
    },
    {
      "cell_type": "markdown",
      "source": [
        "# Tensorboard"
      ],
      "metadata": {
        "id": "jKfMP_rVKQJb"
      }
    },
    {
      "cell_type": "code",
      "source": [
        "from tensorflow.keras.callbacks import TensorBoard\n",
        "\n",
        "callbacks = [\n",
        "             TensorBoard('weights/')\n",
        "]"
      ],
      "metadata": {
        "id": "H3OTWAaiKPCD"
      },
      "execution_count": 12,
      "outputs": []
    },
    {
      "cell_type": "code",
      "source": [
        "from tensorflow.keras.callbacks import Callbacks\n",
        "\n",
        "class TrainHistory(Callbacks):\n",
        "    def __init__(self, data=None, log_dir='weights'):\n",
        "        self.img = self.mask = data\n",
        "        self.wirter = tf.summary.create_file_writer(log_dir)\n",
        "        \n"
      ],
      "metadata": {
        "id": "bVTKoG-0KjJK"
      },
      "execution_count": null,
      "outputs": []
    },
    {
      "cell_type": "code",
      "source": [
        "hist = model.fit(train_generator,\n",
        "                 validation_data = valid_generator,\n",
        "                 epochs= 10,\n",
        "                 verbose = 1)"
      ],
      "metadata": {
        "id": "jwzbpGQ9VocU",
        "colab": {
          "base_uri": "https://localhost:8080/"
        },
        "outputId": "4a88bcb2-d871-4130-c9d2-35a094d97e57"
      },
      "execution_count": 8,
      "outputs": [
        {
          "output_type": "stream",
          "name": "stdout",
          "text": [
            "Epoch 1/10\n",
            "92/92 [==============================] - 4363s 47s/step - loss: 0.8939 - iou: 0.4299 - val_loss: 7.9543 - val_iou: 0.3469\n",
            "Epoch 2/10\n",
            "92/92 [==============================] - 79s 853ms/step - loss: 0.6140 - iou: 0.5633 - val_loss: 1.0416 - val_iou: 0.5352\n",
            "Epoch 3/10\n",
            "92/92 [==============================] - 79s 856ms/step - loss: 0.5140 - iou: 0.6222 - val_loss: 0.6460 - val_iou: 0.6576\n",
            "Epoch 4/10\n",
            "92/92 [==============================] - 79s 858ms/step - loss: 0.4625 - iou: 0.6560 - val_loss: 0.6775 - val_iou: 0.6779\n",
            "Epoch 5/10\n",
            "92/92 [==============================] - 79s 857ms/step - loss: 0.4394 - iou: 0.6720 - val_loss: 0.4810 - val_iou: 0.7323\n",
            "Epoch 6/10\n",
            "92/92 [==============================] - 79s 853ms/step - loss: 0.3985 - iou: 0.6984 - val_loss: 0.4049 - val_iou: 0.7284\n",
            "Epoch 7/10\n",
            "92/92 [==============================] - 79s 860ms/step - loss: 0.3819 - iou: 0.7085 - val_loss: 0.3669 - val_iou: 0.7533\n",
            "Epoch 8/10\n",
            "92/92 [==============================] - 79s 856ms/step - loss: 0.3729 - iou: 0.7156 - val_loss: 0.4296 - val_iou: 0.7338\n",
            "Epoch 9/10\n",
            "92/92 [==============================] - 79s 856ms/step - loss: 0.3580 - iou: 0.7252 - val_loss: 0.3902 - val_iou: 0.7604\n",
            "Epoch 10/10\n",
            "92/92 [==============================] - 79s 851ms/step - loss: 0.3490 - iou: 0.7325 - val_loss: 0.3494 - val_iou: 0.7700\n"
          ]
        }
      ]
    },
    {
      "cell_type": "code",
      "source": [
        "import matplotlib.pyplot as plt\n",
        "history = hist.history\n",
        "\n",
        "plt.figure(figsize=(15,5))\n",
        "plt.subplot(121)\n",
        "plt.plot(history['loss'], label='train')\n",
        "plt.plot(history['val_loss'], label='val')\n",
        "plt.legend()\n",
        "plt.xlabel('epoch')\n",
        "plt.ylabel('loss')\n",
        "plt.title('Loss')\n",
        "\n",
        "plt.subplot(122)\n",
        "plt.plot(history['iou'], label='train')\n",
        "plt.plot(history['val_iou'], label='val')\n",
        "plt.legend()\n",
        "plt.xlabel('epoch')\n",
        "plt.ylabel('accuracy')\n",
        "plt.title('Acuuracy')\n",
        "\n",
        "plt.show()"
      ],
      "metadata": {
        "colab": {
          "base_uri": "https://localhost:8080/",
          "height": 350
        },
        "id": "6HsdUadHaGgT",
        "outputId": "975c86d5-f9be-4e1e-bc32-b5017dd1057a"
      },
      "execution_count": 11,
      "outputs": [
        {
          "output_type": "display_data",
          "data": {
            "image/png": "[encoded data removed]",
            "text/plain": [
              "<Figure size 1080x360 with 2 Axes>"
            ]
          },
          "metadata": {
            "needs_background": "light"
          }
        }
      ]
    },
    {
      "cell_type": "code",
      "source": [
        ""
      ],
      "metadata": {
        "id": "ShZT9vrraGi2"
      },
      "execution_count": null,
      "outputs": []
    },
    {
      "cell_type": "code",
      "source": [
        ""
      ],
      "metadata": {
        "id": "kEbjHQIcaGlK"
      },
      "execution_count": null,
      "outputs": []
    }
  ]
}