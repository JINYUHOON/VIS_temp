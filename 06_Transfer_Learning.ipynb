{
  "nbformat": 4,
  "nbformat_minor": 0,
  "metadata": {
    "colab": {
      "name": "06_Transfer_Learning.ipynb",
      "provenance": [],
      "machine_shape": "hm",
      "collapsed_sections": [],
      "mount_file_id": "1YgfpZhbX0RulrbDNXG_ZHi04ZJ47p7Nm",
      "authorship_tag": "ABX9TyMmJRrLP97TxWglL7WJME3A",
      "include_colab_link": true
    },
    "kernelspec": {
      "name": "python3",
      "display_name": "Python 3"
    },
    "language_info": {
      "name": "python"
    },
    "accelerator": "GPU"
  },
  "cells": [
    {
      "cell_type": "markdown",
      "metadata": {
        "id": "view-in-github",
        "colab_type": "text"
      },
      "source": [
        "<a href=\"https://colab.research.google.com/github/JINYUHOON/VIS_temp/blob/main/06_Transfer_Learning.ipynb\" target=\"_parent\"><img src=\"https://colab.research.google.com/assets/colab-badge.svg\" alt=\"Open In Colab\"/></a>"
      ]
    },
    {
      "cell_type": "code",
      "execution_count": null,
      "metadata": {
        "id": "MXjTXOKKxHqZ"
      },
      "outputs": [],
      "source": [
        "import os\n",
        "import math\n",
        "import cv2\n",
        "import numpy as np\n",
        "import pandas as pd\n",
        "import tensorflow as tf\n",
        "import math\n",
        "\n",
        "\n",
        "from tensorflow import keras\n",
        "from tensorflow.keras import layers\n",
        "from tensorflow.keras import activations\n",
        "from tensorflow.keras.applications import EfficientNetB0\n",
        "\n",
        "# os.environ['CUDA_VISIBLE_DEVICES'] = '1'"
      ]
    },
    {
      "cell_type": "code",
      "source": [
        "def get_model(input_shape):\n",
        "    \n",
        "    inputs = keras.Input(input_shape)\n",
        "    base_model = EfficientNetB0(\n",
        "        input_shape = input_shape,\n",
        "        weights = 'imagenet',\n",
        "        include_top=False,\n",
        "        pooling = 'avg'\n",
        "    )\n",
        "    \n",
        "    x = base_model(inputs)\n",
        "    outputs = layers.Dense(1, activation='sigmoid')(x)\n",
        "    model = keras.Model(inputs, outputs)\n",
        "\n",
        "    return model\n",
        "\n",
        "input_shape = (256, 256, 3)\n",
        "model = get_model(input_shape)\n",
        "\n",
        "adam = keras.optimizers.Adam(lr=0.0001)\n",
        "\n",
        "model.compile(\n",
        "    optimizer = adam,\n",
        "    loss = 'binary_crossentropy',\n",
        "    metrics = 'accuracy'\n",
        ")\n",
        "\n",
        "model.summary()"
      ],
      "metadata": {
        "colab": {
          "base_uri": "https://localhost:8080/"
        },
        "id": "BDOTRKtox-AG",
        "outputId": "a11c6ba6-ad60-46cf-fbb5-290df58df29c"
      },
      "execution_count": null,
      "outputs": [
        {
          "output_type": "stream",
          "name": "stdout",
          "text": [
            "Downloading data from https://storage.googleapis.com/keras-applications/efficientnetb0_notop.h5\n",
            "16711680/16705208 [==============================] - 0s 0us/step\n",
            "16719872/16705208 [==============================] - 0s 0us/step\n",
            "Model: \"model\"\n",
            "_________________________________________________________________\n",
            " Layer (type)                Output Shape              Param #   \n",
            "=================================================================\n",
            " input_1 (InputLayer)        [(None, 256, 256, 3)]     0         \n",
            "                                                                 \n",
            " efficientnetb0 (Functional)  (None, 1280)             4049571   \n",
            "                                                                 \n",
            " dense (Dense)               (None, 1)                 1281      \n",
            "                                                                 \n",
            "=================================================================\n",
            "Total params: 4,050,852\n",
            "Trainable params: 4,008,829\n",
            "Non-trainable params: 42,023\n",
            "_________________________________________________________________\n"
          ]
        },
        {
          "output_type": "stream",
          "name": "stderr",
          "text": [
            "/usr/local/lib/python3.7/dist-packages/keras/optimizer_v2/adam.py:105: UserWarning: The `lr` argument is deprecated, use `learning_rate` instead.\n",
            "  super(Adam, self).__init__(name, **kwargs)\n"
          ]
        }
      ]
    },
    {
      "cell_type": "code",
      "source": [
        "from albumentations.augmentations.transforms import ShiftScaleRotate\n",
        "import albumentations as A\n",
        "import cv2\n",
        "\n",
        "class Augmentation:\n",
        "    def __init__(self, size, mode='train'):\n",
        "        if mode =='train':\n",
        "            self.transform = A.Compose([\n",
        "                                   A.HorizontalFlip(p=0.5),\n",
        "                                   A.ShiftScaleRotate(\n",
        "                                       p = 0.5,\n",
        "                                       shift_limit = 0.05,\n",
        "                                       scale_limit = 0.05,\n",
        "                                       rotate_limit = 15,\n",
        "                                   ),\n",
        "                                #    A.CoarseDropout(\n",
        "                                #        p=0.5,\n",
        "                                #        max_holes = 8,\n",
        "                                #        max_height = int( 0.1 * size),\n",
        "                                #        max_width = int( 0.1 * size)    \n",
        "                                #    ),\n",
        "                                   A.RandomBrightnessContrast(p=0.2),\n",
        "            ])\n",
        "    \n",
        "\n",
        "    def __call__(self, **kwargs):\n",
        "        if self.transform:\n",
        "            augmented = self.transform(**kwargs)\n",
        "            img = augmented['image']\n",
        "            return img"
      ],
      "metadata": {
        "id": "jPeJer5O4B2J"
      },
      "execution_count": null,
      "outputs": []
    },
    {
      "cell_type": "code",
      "source": [
        "base_path = '/content/drive/MyDrive/HOON/exam/OX/data/'\n",
        "\n",
        "class DataGenerator(keras.utils.Sequence):\n",
        "    def __init__(self, batch_size, csv_path, fold, image_size, mode='train', shuffle=True):\n",
        "        self.batch_size = batch_size\n",
        "        self.fold = fold\n",
        "        self.mode = mode\n",
        "        self.image_size = image_size\n",
        "        self.shuffle = shuffle\n",
        "\n",
        "        self.df = pd.read_csv(csv_path)\n",
        "\n",
        "        if self.mode == 'train':\n",
        "            self.df = self.df[self.df['fold'] != self.fold]\n",
        "        elif self.mode =='val':\n",
        "            self.df = self.df[self.df['fold'] == self.fold]\n",
        "\n",
        "        # Remove invalid\n",
        "        invalid_filenames = [\n",
        "                             'Egyptian_Mau_14',\n",
        "                             'Egyptian_Mau_139',\n",
        "                             'Egyptian_Mau_145',\n",
        "                             'Egyptian_Mau_156',\n",
        "                             'Egyptian_Mau_167',\n",
        "                             'Egyptian_Mau_177',\n",
        "                             'Egyptian_Mau_186',\n",
        "                             'Egyptian_Mau_1191',\n",
        "                             'Abyssinian_5',\n",
        "                             'Abyssinian_34',\n",
        "                             'chihuahua_121',\n",
        "                             'beagle_116'\n",
        "                             \n",
        "        ]\n",
        "\n",
        "        self.df = self.df[-self.df['file_name'].isin(invalid_filenames)]\n",
        "        self.transform = Augmentation(image_size , mode)\n",
        "\n",
        "        self.on_epoch_end()\n",
        "\n",
        "    def __len__(self):\n",
        "        return math.ceil(len(self.df) / self.batch_size)\n",
        "\n",
        "    def __getitem__(self, idx):\n",
        "        strt = idx * self.batch_size\n",
        "        fin = (idx+1) * self.batch_size\n",
        "        data = self.df.iloc[strt:fin]\n",
        "\n",
        "        batch_x, batch_y = self.get_data(data)\n",
        "\n",
        "        return np.array(batch_x), np.array(batch_y)\n",
        "\n",
        "    def get_data(self, data):\n",
        "        batch_x = []\n",
        "        batch_y = []\n",
        "\n",
        "        for _ , r in data.iterrows():\n",
        "            file_name = r['file_name']\n",
        "            \n",
        "            image = cv2.imread(base_path + f'images/{file_name}.jpg')\n",
        "            image = cv2.cvtColor(image, cv2.COLOR_BGR2RGB)\n",
        "            image = cv2.resize(image , (self.image_size , self.image_size))\n",
        "\n",
        "            if self.mode == 'train':\n",
        "                image = image.astype('uint8')\n",
        "                image = self.transform(image=image)\n",
        "\n",
        "            image = image.astype('float32')\n",
        "            image = image / 255.\n",
        "\n",
        "            label = int(r['species']-1)\n",
        "\n",
        "            batch_x.append(image)\n",
        "            batch_y.append(label)\n",
        "\n",
        "        return batch_x, batch_y\n",
        "\n",
        "    def on_epoch_end(self):\n",
        "\n",
        "        if self.shuffle:\n",
        "            self.df = self.df.sample(frac=1).reset_index(drop=True)\n",
        "\n",
        "csv_path = base_path + 'kfolds.csv'\n",
        "\n",
        "train_generator = DataGenerator(batch_size = 64, \n",
        "                                csv_path=csv_path, fold = 1, \n",
        "                                image_size = 256,\n",
        "                                mode='train', \n",
        "                                shuffle=True)\n",
        "\n",
        "valid_generator = DataGenerator(batch_size = 64, \n",
        "                                csv_path=csv_path, fold = 1, \n",
        "                                image_size = 256,\n",
        "                                mode='val', \n",
        "                                shuffle=True)"
      ],
      "metadata": {
        "id": "Crhve96Q4Rkj"
      },
      "execution_count": null,
      "outputs": []
    },
    {
      "cell_type": "code",
      "source": [
        "history = model.fit(train_generator, validation_data = valid_generator, epochs=10, verbose=1)"
      ],
      "metadata": {
        "colab": {
          "base_uri": "https://localhost:8080/"
        },
        "id": "zK8IXEMp4Szb",
        "outputId": "13d067d5-873e-4aae-bb62-6ee79868ff97"
      },
      "execution_count": null,
      "outputs": [
        {
          "output_type": "stream",
          "name": "stdout",
          "text": [
            "Epoch 1/10\n",
            "92/92 [==============================] - 4141s 45s/step - loss: 0.1773 - accuracy: 0.9501 - val_loss: 0.6812 - val_accuracy: 0.6780\n",
            "Epoch 2/10\n",
            "92/92 [==============================] - 67s 726ms/step - loss: 0.0354 - accuracy: 0.9893 - val_loss: 0.6992 - val_accuracy: 0.3220\n",
            "Epoch 3/10\n",
            "92/92 [==============================] - 68s 730ms/step - loss: 0.0169 - accuracy: 0.9947 - val_loss: 0.6881 - val_accuracy: 0.5398\n",
            "Epoch 4/10\n",
            "92/92 [==============================] - 67s 725ms/step - loss: 0.0112 - accuracy: 0.9971 - val_loss: 0.7176 - val_accuracy: 0.3376\n",
            "Epoch 5/10\n",
            "92/92 [==============================] - 67s 725ms/step - loss: 0.0108 - accuracy: 0.9964 - val_loss: 0.7154 - val_accuracy: 0.3363\n",
            "Epoch 6/10\n",
            "92/92 [==============================] - 68s 731ms/step - loss: 0.0058 - accuracy: 0.9986 - val_loss: 1.2408 - val_accuracy: 0.3581\n",
            "Epoch 7/10\n",
            "92/92 [==============================] - 67s 726ms/step - loss: 0.0063 - accuracy: 0.9988 - val_loss: 1.3723 - val_accuracy: 0.3921\n",
            "Epoch 8/10\n",
            "92/92 [==============================] - 67s 725ms/step - loss: 0.0042 - accuracy: 0.9990 - val_loss: 0.9655 - val_accuracy: 0.3601\n",
            "Epoch 9/10\n",
            "92/92 [==============================] - 67s 728ms/step - loss: 0.0043 - accuracy: 0.9986 - val_loss: 0.9076 - val_accuracy: 0.6025\n",
            "Epoch 10/10\n",
            "92/92 [==============================] - 68s 732ms/step - loss: 0.0071 - accuracy: 0.9980 - val_loss: 0.1850 - val_accuracy: 0.9108\n"
          ]
        }
      ]
    },
    {
      "cell_type": "code",
      "source": [
        "import matplotlib.pyplot as plt\n",
        "history = history.history\n",
        "\n",
        "plt.figure(figsize=(15,5))\n",
        "plt.subplot(121)\n",
        "plt.plot(history['loss'], label='train')\n",
        "plt.plot(history['val_loss'], label='val')\n",
        "plt.legend()\n",
        "plt.xlabel('epoch')\n",
        "plt.ylabel('loss')\n",
        "plt.title('Loss')\n",
        "\n",
        "plt.subplot(122)\n",
        "plt.plot(history['accuracy'], label='train')\n",
        "plt.plot(history['val_accuracy'], label='val')\n",
        "plt.legend()\n",
        "plt.xlabel('epoch')\n",
        "plt.ylabel('accuracy')\n",
        "plt.title('Acuuracy')\n",
        "\n",
        "plt.show()"
      ],
      "metadata": {
        "id": "Bym34Pfo4fI6",
        "colab": {
          "base_uri": "https://localhost:8080/",
          "height": 350
        },
        "outputId": "eebb31e9-b89b-4da9-91a4-deb152837228"
      },
      "execution_count": null,
      "outputs": [
        {
          "output_type": "display_data",
          "data": {
            "image/png": "[encoded data removed]",
            "text/plain": [
              "<Figure size 1080x360 with 2 Axes>"
            ]
          },
          "metadata": {
            "needs_background": "light"
          }
        }
      ]
    },
    {
      "cell_type": "code",
      "source": [
        ""
      ],
      "metadata": {
        "id": "YOvGfVN2Xddz"
      },
      "execution_count": null,
      "outputs": []
    }
  ]
}