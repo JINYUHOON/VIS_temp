{
  "nbformat": 4,
  "nbformat_minor": 0,
  "metadata": {
    "colab": {
      "name": "02.DataLoader.ipynb",
      "private_outputs": true,
      "provenance": [],
      "collapsed_sections": [],
      "authorship_tag": "ABX9TyOM4AvzyVjdC+Phe+e8L6Do",
      "include_colab_link": true
    },
    "kernelspec": {
      "name": "python3",
      "display_name": "Python 3"
    },
    "language_info": {
      "name": "python"
    }
  },
  "cells": [
    {
      "cell_type": "markdown",
      "metadata": {
        "id": "view-in-github",
        "colab_type": "text"
      },
      "source": [
        "<a href=\"https://colab.research.google.com/github/JINYUHOON/VIS_temp/blob/main/02_DataLoader.ipynb\" target=\"_parent\"><img src=\"https://colab.research.google.com/assets/colab-badge.svg\" alt=\"Open In Colab\"/></a>"
      ]
    },
    {
      "cell_type": "code",
      "source": [
        "from google.colab import drive\n",
        "drive.mount('/content/drive')\n",
        "\n",
        "base_path = '/content/drive/MyDrive/HOON/exam/OX/data/'"
      ],
      "metadata": {
        "id": "U5i5Z3jiJ44g"
      },
      "execution_count": null,
      "outputs": []
    },
    {
      "cell_type": "code",
      "source": [
        "import pandas as pd\n",
        "import numpy as np\n",
        "import math\n",
        "import random\n",
        "import cv2\n",
        "import matplotlib.pyplot as plt\n",
        "\n",
        "from tensorflow import keras"
      ],
      "metadata": {
        "id": "CTdB5dbiJ5c1"
      },
      "execution_count": null,
      "outputs": []
    },
    {
      "cell_type": "code",
      "source": [
        "class DataGenerator(keras.utils.Sequence):\n",
        "    def __init__(self, batch_size, csv_path, fold, image_size, mode='train', shuffle=True):\n",
        "        self.batch_size = batch_size\n",
        "        self.fold = fold\n",
        "        self.mode = mode\n",
        "        self.image_size = image_size\n",
        "        self.shuffle = shuffle\n",
        "\n",
        "        self.df = pd.read_csv(csv_path)\n",
        "\n",
        "        if self.mode == 'train':\n",
        "            self.df = self.df[self.df['fold'] != self.fold]\n",
        "        elif self.mode =='val':\n",
        "            self.df = self.df[self.df['fold'] == self.fold]\n",
        "\n",
        "        self.on_epoch_end()\n",
        "\n",
        "    def __len__(self):\n",
        "        return math.ceil(len(self.df) / self.batch_size)\n",
        "\n",
        "    def __getitem__(self, idx):\n",
        "        strt = idx * self.batch_size\n",
        "        fin = (idx+1) * self.batch_size\n",
        "        data = self.df.iloc[strt:fin]\n",
        "\n",
        "        batch_x, batch_y = self.get_data(data)\n",
        "\n",
        "        return np.array(batch_x), np.array(batch_y)\n",
        "\n",
        "    def get_data(self, data):\n",
        "        batch_x = []\n",
        "        batch_y = []\n",
        "\n",
        "        for _ , r in data.iterrows():\n",
        "            file_name = r['file_name']\n",
        "            \n",
        "            image = cv2.imread(base_path + f'images/{file_name}.jpg')\n",
        "            image = cv2.cvtColor(image, cv2.COLOR_BGR2RGB)\n",
        "\n",
        "            image = cv2.resize(image , (self.image_size , self.image_size))\n",
        "            image = image / 255.\n",
        "\n",
        "            label = int(r['species']-1)\n",
        "\n",
        "            batch_x.append(image)\n",
        "            batch_y.append(label)\n",
        "\n",
        "        return batch_x, batch_y\n",
        "\n",
        "    def on_epoch_end(self):\n",
        "\n",
        "        if self.shuffle:\n",
        "            self.df = self.df.sample(frac=1).reset_index(drop=True)"
      ],
      "metadata": {
        "id": "_m9cYdN-K5W6"
      },
      "execution_count": null,
      "outputs": []
    },
    {
      "cell_type": "code",
      "source": [
        "csv_path = base_path + 'kfolds.csv'"
      ],
      "metadata": {
        "id": "E_9vhY36TWD4"
      },
      "execution_count": null,
      "outputs": []
    },
    {
      "cell_type": "code",
      "source": [
        "train_generator = DataGenerator(batch_size = 9, \n",
        "                                csv_path=csv_path, fold = 1, \n",
        "                                image_size = 256,\n",
        "                                mode='train', \n",
        "                                shuffle=True)"
      ],
      "metadata": {
        "id": "cYEwrFp5TdYF"
      },
      "execution_count": null,
      "outputs": []
    },
    {
      "cell_type": "code",
      "source": [
        "class_name = ['Cat','Dog']\n",
        "\n",
        "for batch in train_generator:\n",
        "    X,y = batch\n",
        "    plt.figure(figsize=(15,15))\n",
        "\n",
        "    for i in range(9):\n",
        "        ax = plt.subplot(3, 3, i+1)\n",
        "        plt.imshow(X[i])\n",
        "        plt.title(class_name[y[i]])\n",
        "        plt.axis('off')\n",
        "\n",
        "    break"
      ],
      "metadata": {
        "id": "SruMY2sETyWw"
      },
      "execution_count": null,
      "outputs": []
    },
    {
      "cell_type": "code",
      "source": [
        ""
      ],
      "metadata": {
        "id": "qTchC4xUVCfn"
      },
      "execution_count": null,
      "outputs": []
    }
  ]
}